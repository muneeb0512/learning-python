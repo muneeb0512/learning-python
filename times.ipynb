{
 "cells": [
  {
   "cell_type": "code",
   "execution_count": 2,
   "metadata": {},
   "outputs": [],
   "source": [
    "import statistics\n",
    "FN=\"Darius-13-100m-Fly.txt\"\n",
    "FOLDER= \"swimdata/\"\n",
    "\n",
    "swimmer,age,distance,stroke = FN.removesuffix(\".txt\").split(\"-\")\n",
    "\n",
    "with open(FOLDER+FN) as file:\n",
    "    lines=file.readlines() #puts all lines in the files in a list that can be referenced by varibale lines\n",
    "    times= lines[0].strip().split(\",\") #since there was only one line in the file so it exist in the first index of lines and then it is splitted into a list of sub strings\n",
    "\n",
    "\n",
    "alltimes=[]\n",
    "\n",
    "for t in times:\n",
    "    min,rest= t.split(\":\")\n",
    "    seconds,hundreths = rest.split(\".\")\n",
    "    alltimes.append( (int(min)*60*100)+ (int(seconds)*100) + int(hundreths))\n",
    "\n",
    "average= statistics.mean(alltimes)\n",
    "\n",
    "mins_secs,hundreds= str(round(average/100,2)).split(\".\")\n",
    "mins_secs=int(mins_secs)\n",
    "minutes= mins_secs // 60 #// is floor divison which means it chops off everything after .\n",
    "\n",
    "seconds= mins_secs- minutes*60\n",
    "\n",
    "average= str(minutes)+ \":\"+ str(seconds)+ \".\"+ hundreds\n",
    "\n",
    "\n"
   ]
  },
  {
   "cell_type": "code",
   "execution_count": 3,
   "metadata": {},
   "outputs": [
    {
     "data": {
      "text/plain": [
       "'1:26.58'"
      ]
     },
     "execution_count": 3,
     "metadata": {},
     "output_type": "execute_result"
    }
   ],
   "source": [
    "average\n"
   ]
  },
  {
   "cell_type": "code",
   "execution_count": null,
   "metadata": {},
   "outputs": [],
   "source": []
  }
 ],
 "metadata": {
  "kernelspec": {
   "display_name": "Python 3",
   "language": "python",
   "name": "python3"
  },
  "language_info": {
   "codemirror_mode": {
    "name": "ipython",
    "version": 3
   },
   "file_extension": ".py",
   "mimetype": "text/x-python",
   "name": "python",
   "nbconvert_exporter": "python",
   "pygments_lexer": "ipython3",
   "version": "3.13.1"
  }
 },
 "nbformat": 4,
 "nbformat_minor": 2
}
