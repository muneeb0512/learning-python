{
 "cells": [
  {
   "cell_type": "code",
   "execution_count": 1,
   "metadata": {},
   "outputs": [
    {
     "name": "stdout",
     "output_type": "stream",
     "text": [
      "hello world\n"
     ]
    }
   ],
   "source": [
    "print(\"hello world\")"
   ]
  },
  {
   "cell_type": "code",
   "execution_count": 3,
   "metadata": {},
   "outputs": [],
   "source": [
    "import random\n",
    "suits=[\"clubs\",\"spades\",\"hearts\",\"diamonds\"]\n",
    "faces=[\"jack\",\"queen\",\"king\",\"ace\"]\n",
    "numbered=[2,3,4,5,6,7,8,9,10]\n"
   ]
  },
  {
   "cell_type": "code",
   "execution_count": 22,
   "metadata": {},
   "outputs": [
    {
     "name": "stdout",
     "output_type": "stream",
     "text": [
      "('jack', 'of', 'clubs')\n",
      "('queen', 'of', 'clubs')\n",
      "('king', 'of', 'clubs')\n",
      "('ace', 'of', 'clubs')\n",
      "(2, 'of', 'clubs')\n",
      "(3, 'of', 'clubs')\n",
      "(4, 'of', 'clubs')\n",
      "(5, 'of', 'clubs')\n",
      "(6, 'of', 'clubs')\n",
      "(7, 'of', 'clubs')\n",
      "(8, 'of', 'clubs')\n",
      "(9, 'of', 'clubs')\n",
      "(10, 'of', 'clubs')\n",
      "('jack', 'of', 'spades')\n",
      "('queen', 'of', 'spades')\n",
      "('king', 'of', 'spades')\n",
      "('ace', 'of', 'spades')\n",
      "(2, 'of', 'spades')\n",
      "(3, 'of', 'spades')\n",
      "(4, 'of', 'spades')\n",
      "(5, 'of', 'spades')\n",
      "(6, 'of', 'spades')\n",
      "(7, 'of', 'spades')\n",
      "(8, 'of', 'spades')\n",
      "(9, 'of', 'spades')\n",
      "(10, 'of', 'spades')\n",
      "('jack', 'of', 'hearts')\n",
      "('queen', 'of', 'hearts')\n",
      "('king', 'of', 'hearts')\n",
      "('ace', 'of', 'hearts')\n",
      "(2, 'of', 'hearts')\n",
      "(3, 'of', 'hearts')\n",
      "(4, 'of', 'hearts')\n",
      "(5, 'of', 'hearts')\n",
      "(6, 'of', 'hearts')\n",
      "(7, 'of', 'hearts')\n",
      "(8, 'of', 'hearts')\n",
      "(9, 'of', 'hearts')\n",
      "(10, 'of', 'hearts')\n",
      "('jack', 'of', 'diamonds')\n",
      "('queen', 'of', 'diamonds')\n",
      "('king', 'of', 'diamonds')\n",
      "('ace', 'of', 'diamonds')\n",
      "(2, 'of', 'diamonds')\n",
      "(3, 'of', 'diamonds')\n",
      "(4, 'of', 'diamonds')\n",
      "(5, 'of', 'diamonds')\n",
      "(6, 'of', 'diamonds')\n",
      "(7, 'of', 'diamonds')\n",
      "(8, 'of', 'diamonds')\n",
      "(9, 'of', 'diamonds')\n",
      "(10, 'of', 'diamonds')\n"
     ]
    }
   ],
   "source": [
    "for suit in suits:\n",
    "    for card in (faces+numbered): #lists are concatenated \n",
    "        print((card,\"of\",suit))\n"
   ]
  },
  {
   "cell_type": "code",
   "execution_count": 4,
   "metadata": {},
   "outputs": [],
   "source": [
    "deck=set()"
   ]
  },
  {
   "cell_type": "code",
   "execution_count": 5,
   "metadata": {},
   "outputs": [
    {
     "name": "stdout",
     "output_type": "stream",
     "text": [
      "['__and__', '__class__', '__class_getitem__', '__contains__', '__delattr__', '__dir__', '__doc__', '__eq__', '__format__', '__ge__', '__getattribute__', '__getstate__', '__gt__', '__hash__', '__iand__', '__init__', '__init_subclass__', '__ior__', '__isub__', '__iter__', '__ixor__', '__le__', '__len__', '__lt__', '__ne__', '__new__', '__or__', '__rand__', '__reduce__', '__reduce_ex__', '__repr__', '__ror__', '__rsub__', '__rxor__', '__setattr__', '__sizeof__', '__str__', '__sub__', '__subclasshook__', '__xor__', 'add', 'clear', 'copy', 'difference', 'difference_update', 'discard', 'intersection', 'intersection_update', 'isdisjoint', 'issubset', 'issuperset', 'pop', 'remove', 'symmetric_difference', 'symmetric_difference_update', 'union', 'update']\n"
     ]
    }
   ],
   "source": [
    "print(dir(deck))"
   ]
  },
  {
   "cell_type": "code",
   "execution_count": 15,
   "metadata": {},
   "outputs": [
    {
     "name": "stdout",
     "output_type": "stream",
     "text": [
      "Help on built-in function add:\n",
      "\n",
      "add(object, /) method of builtins.set instance\n",
      "    Add an element to a set.\n",
      "\n",
      "    This has no effect if the element is already present.\n",
      "\n"
     ]
    }
   ],
   "source": [
    "help(deck.add)"
   ]
  },
  {
   "cell_type": "code",
   "execution_count": 6,
   "metadata": {},
   "outputs": [],
   "source": [
    "for suit in suits:\n",
    "    for card in (faces+numbered): #lists are concatenated \n",
    "        deck.add((card, \"of\", suit)) #makes a set of all tupels\n",
    "\n"
   ]
  },
  {
   "cell_type": "code",
   "execution_count": 18,
   "metadata": {},
   "outputs": [
    {
     "data": {
      "text/plain": [
       "52"
      ]
     },
     "execution_count": 18,
     "metadata": {},
     "output_type": "execute_result"
    }
   ],
   "source": [
    "len(deck)"
   ]
  },
  {
   "cell_type": "code",
   "execution_count": 11,
   "metadata": {},
   "outputs": [],
   "source": [
    "def draw():\n",
    "    randomcard= random.choice(list(deck))\n",
    "    deck.remove(randomcard)\n",
    "    return randomcard\n"
   ]
  },
  {
   "cell_type": "code",
   "execution_count": 12,
   "metadata": {},
   "outputs": [
    {
     "data": {
      "text/plain": [
       "('ace', 'of', 'hearts')"
      ]
     },
     "execution_count": 12,
     "metadata": {},
     "output_type": "execute_result"
    }
   ],
   "source": [
    "draw()"
   ]
  },
  {
   "cell_type": "code",
   "execution_count": 14,
   "metadata": {},
   "outputs": [
    {
     "name": "stdout",
     "output_type": "stream",
     "text": [
      "the card is already taken\n"
     ]
    }
   ],
   "source": [
    "card= (\"ace\",\"of\",\"hearts\")\n",
    "if card in deck:\n",
    "    print(\"the card is avaible\")\n",
    "else:\n",
    "    print(\"the card is already taken\")"
   ]
  },
  {
   "cell_type": "code",
   "execution_count": 18,
   "metadata": {},
   "outputs": [
    {
     "name": "stdout",
     "output_type": "stream",
     "text": [
      "{(6, 'of', 'diamonds'), (10, 'of', 'hearts'), (10, 'of', 'clubs'), (4, 'of', 'diamonds'), (8, 'of', 'hearts'), (8, 'of', 'clubs'), ('ace', 'of', 'clubs'), (7, 'of', 'spades'), (3, 'of', 'diamonds'), (6, 'of', 'spades'), (4, 'of', 'spades'), ('king', 'of', 'diamonds'), (5, 'of', 'diamonds'), (7, 'of', 'clubs'), (3, 'of', 'spades'), (6, 'of', 'hearts'), (5, 'of', 'spades'), ('jack', 'of', 'diamonds'), ('queen', 'of', 'diamonds'), (4, 'of', 'hearts'), (9, 'of', 'diamonds'), (3, 'of', 'clubs'), (2, 'of', 'diamonds'), (3, 'of', 'hearts'), ('jack', 'of', 'spades'), ('queen', 'of', 'spades'), (5, 'of', 'hearts'), (5, 'of', 'clubs'), (9, 'of', 'spades'), (2, 'of', 'hearts'), ('king', 'of', 'hearts'), (2, 'of', 'spades'), ('king', 'of', 'clubs'), ('ace', 'of', 'diamonds'), (8, 'of', 'diamonds'), (10, 'of', 'diamonds'), ('queen', 'of', 'clubs'), ('jack', 'of', 'clubs'), ('jack', 'of', 'hearts'), ('queen', 'of', 'hearts'), (9, 'of', 'clubs'), (10, 'of', 'spades'), (9, 'of', 'hearts'), (8, 'of', 'spades'), ('ace', 'of', 'spades'), (2, 'of', 'clubs'), (7, 'of', 'diamonds')}\n"
     ]
    }
   ],
   "source": [
    "print(deck) #this shows that a set has curly braces around,tuple has () around, and list has [] around"
   ]
  },
  {
   "cell_type": "code",
   "execution_count": 19,
   "metadata": {},
   "outputs": [
    {
     "name": "stdout",
     "output_type": "stream",
     "text": [
      "the card is avaible\n"
     ]
    }
   ],
   "source": [
    "card= (5,\"of\",\"hearts\")\n",
    "if card in deck:\n",
    "    print(\"the card is avaible\")\n",
    "else:\n",
    "    print(\"the card is already taken\")"
   ]
  },
  {
   "cell_type": "code",
   "execution_count": 20,
   "metadata": {},
   "outputs": [
    {
     "name": "stdout",
     "output_type": "stream",
     "text": [
      "The Zen of Python, by Tim Peters\n",
      "\n",
      "Beautiful is better than ugly.\n",
      "Explicit is better than implicit.\n",
      "Simple is better than complex.\n",
      "Complex is better than complicated.\n",
      "Flat is better than nested.\n",
      "Sparse is better than dense.\n",
      "Readability counts.\n",
      "Special cases aren't special enough to break the rules.\n",
      "Although practicality beats purity.\n",
      "Errors should never pass silently.\n",
      "Unless explicitly silenced.\n",
      "In the face of ambiguity, refuse the temptation to guess.\n",
      "There should be one-- and preferably only one --obvious way to do it.\n",
      "Although that way may not be obvious at first unless you're Dutch.\n",
      "Now is better than never.\n",
      "Although never is often better than *right* now.\n",
      "If the implementation is hard to explain, it's a bad idea.\n",
      "If the implementation is easy to explain, it may be a good idea.\n",
      "Namespaces are one honking great idea -- let's do more of those!\n"
     ]
    }
   ],
   "source": [
    "import this"
   ]
  },
  {
   "cell_type": "code",
   "execution_count": null,
   "metadata": {},
   "outputs": [],
   "source": []
  }
 ],
 "metadata": {
  "kernelspec": {
   "display_name": "Python 3",
   "language": "python",
   "name": "python3"
  },
  "language_info": {
   "codemirror_mode": {
    "name": "ipython",
    "version": 3
   },
   "file_extension": ".py",
   "mimetype": "text/x-python",
   "name": "python",
   "nbconvert_exporter": "python",
   "pygments_lexer": "ipython3",
   "version": "3.13.1"
  }
 },
 "nbformat": 4,
 "nbformat_minor": 2
}
