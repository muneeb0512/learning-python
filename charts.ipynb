{
 "cells": [
  {
   "cell_type": "code",
   "execution_count": 1,
   "metadata": {},
   "outputs": [
    {
     "data": {
      "text/plain": [
       "'Darius (Under 13) 100m - Fly'"
      ]
     },
     "execution_count": 1,
     "metadata": {},
     "output_type": "execute_result"
    }
   ],
   "source": [
    "import swimclub\n",
    "FN= \"Darius-13-100m-Fly.txt\"\n",
    "swimmer,age,distance,stroke,*_=swimclub.read_swim_data(FN) #assign times average and converted values pf times to default variable _\n",
    "title= f\"{swimmer} (Under {age}) {distance} - {stroke}\"\n",
    "title"
   ]
  },
  {
   "cell_type": "code",
   "execution_count": 2,
   "metadata": {},
   "outputs": [
    {
     "name": "stdout",
     "output_type": "stream",
     "text": [
      " <!DOCTYPE html>\n",
      "<html>\n",
      "    <head>\n",
      "        <title>\n",
      "          Darius (Under 13) 100m - Fly\n",
      "        </title>\n",
      "    </head>\n",
      "    <body>\n",
      "      <h3>Darius (Under 13) 100m - Fly</h3>\n",
      "\n"
     ]
    }
   ],
   "source": [
    "html=f\"\"\" <!DOCTYPE html>\n",
    "<html>\n",
    "    <head>\n",
    "        <title>\n",
    "          {title}\n",
    "        </title>\n",
    "    </head>\n",
    "    <body>\n",
    "      <h3>{title}</h3>\n",
    "\"\"\"\n",
    "print(html)\n"
   ]
  },
  {
   "cell_type": "code",
   "execution_count": 3,
   "metadata": {},
   "outputs": [
    {
     "name": "stdout",
     "output_type": "stream",
     "text": [
      "[['1:27.95', '1:21.07', '1:30.96', '1:23.22', '1:27.95', '1:28.30'], '1:26.58', [8795, 8107, 9096, 8322, 8795, 8830]]\n"
     ]
    }
   ],
   "source": [
    "print(_)"
   ]
  },
  {
   "cell_type": "code",
   "execution_count": 4,
   "metadata": {},
   "outputs": [
    {
     "name": "stdout",
     "output_type": "stream",
     "text": [
      "\n",
      "    <svg height=\"30\" width=\"400\">\n",
      "      <rect height=\"30\" width=\"339.76\" style=\"fill:rgb(0,0,255);\" />\n",
      "    </svg>1:28.30<br />\n",
      "\n",
      "    <svg height=\"30\" width=\"400\">\n",
      "      <rect height=\"30\" width=\"338.42\" style=\"fill:rgb(0,0,255);\" />\n",
      "    </svg>1:27.95<br />\n",
      "\n",
      "    <svg height=\"30\" width=\"400\">\n",
      "      <rect height=\"30\" width=\"320.22\" style=\"fill:rgb(0,0,255);\" />\n",
      "    </svg>1:23.22<br />\n",
      "\n",
      "    <svg height=\"30\" width=\"400\">\n",
      "      <rect height=\"30\" width=\"350.0\" style=\"fill:rgb(0,0,255);\" />\n",
      "    </svg>1:30.96<br />\n",
      "\n",
      "    <svg height=\"30\" width=\"400\">\n",
      "      <rect height=\"30\" width=\"311.94\" style=\"fill:rgb(0,0,255);\" />\n",
      "    </svg>1:21.07<br />\n",
      "\n",
      "    <svg height=\"30\" width=\"400\">\n",
      "      <rect height=\"30\" width=\"338.42\" style=\"fill:rgb(0,0,255);\" />\n",
      "    </svg>1:27.95<br />\n",
      "\n"
     ]
    }
   ],
   "source": [
    "*_,times,average,converts=swimclub.read_swim_data(FN)\n",
    "from_max= max(converts)\n",
    "times.reverse()\n",
    "converts.reverse()\n",
    "#these methods modify the list in place\n",
    "import hfpy_utils\n",
    "svgs=\"\"\n",
    "\n",
    "for n,t in enumerate(times):\n",
    "    bar_width=hfpy_utils.convert2range(converts[n], 0, from_max, 0, 350) # we changed max value from 400 to 350 as har svg\n",
    "    # ki value tou 400 hai but oske andar rect ki value should go from 0 to 350\n",
    "    #so that there is 50 pixel space between bar of max size and oska time written on right \n",
    "    #rect is a svg rectangle used to create rectangle shapes of different sizes\n",
    "\n",
    "    svgs=svgs+ f\"\"\"\n",
    "    <svg height=\"30\" width=\"400\">\n",
    "      <rect height=\"30\" width=\"{bar_width}\" style=\"fill:rgb(0,0,255);\" />\n",
    "    </svg>{t}<br />\n",
    "\"\"\"\n",
    "    \n",
    "print(svgs)\n"
   ]
  },
  {
   "cell_type": "code",
   "execution_count": 5,
   "metadata": {},
   "outputs": [],
   "source": [
    "footer= f\"\"\" <p>Average time: {average}</p>\n",
    "    </body>\n",
    "</html>\n",
    "\"\"\""
   ]
  },
  {
   "cell_type": "code",
   "execution_count": 6,
   "metadata": {},
   "outputs": [
    {
     "name": "stdout",
     "output_type": "stream",
     "text": [
      " <!DOCTYPE html>\n",
      "<html>\n",
      "    <head>\n",
      "        <title>\n",
      "          Darius (Under 13) 100m - Fly\n",
      "        </title>\n",
      "    </head>\n",
      "    <body>\n",
      "      <h3>Darius (Under 13) 100m - Fly</h3>\n",
      "\n",
      "    <svg height=\"30\" width=\"400\">\n",
      "      <rect height=\"30\" width=\"339.76\" style=\"fill:rgb(0,0,255);\" />\n",
      "    </svg>1:28.30<br />\n",
      "\n",
      "    <svg height=\"30\" width=\"400\">\n",
      "      <rect height=\"30\" width=\"338.42\" style=\"fill:rgb(0,0,255);\" />\n",
      "    </svg>1:27.95<br />\n",
      "\n",
      "    <svg height=\"30\" width=\"400\">\n",
      "      <rect height=\"30\" width=\"320.22\" style=\"fill:rgb(0,0,255);\" />\n",
      "    </svg>1:23.22<br />\n",
      "\n",
      "    <svg height=\"30\" width=\"400\">\n",
      "      <rect height=\"30\" width=\"350.0\" style=\"fill:rgb(0,0,255);\" />\n",
      "    </svg>1:30.96<br />\n",
      "\n",
      "    <svg height=\"30\" width=\"400\">\n",
      "      <rect height=\"30\" width=\"311.94\" style=\"fill:rgb(0,0,255);\" />\n",
      "    </svg>1:21.07<br />\n",
      "\n",
      "    <svg height=\"30\" width=\"400\">\n",
      "      <rect height=\"30\" width=\"338.42\" style=\"fill:rgb(0,0,255);\" />\n",
      "    </svg>1:27.95<br />\n",
      " <p>Average time: 1:26.58</p>\n",
      "    </body>\n",
      "</html>\n",
      "\n"
     ]
    }
   ],
   "source": [
    "page=html+svgs+footer #so basically humne puri html text mein likhi as a string datatype into separate parts and then we combined the different parts to get the full page.\n",
    "print(page)"
   ]
  },
  {
   "cell_type": "code",
   "execution_count": 7,
   "metadata": {},
   "outputs": [],
   "source": [
    "save_to = f\"\"\"charts/{FN.removesuffix(\".txt\")}.html\"\"\"\n",
    "\n",
    "with open(save_to,\"w\") as myfile:\n",
    "    print(page,file=myfile)"
   ]
  },
  {
   "cell_type": "code",
   "execution_count": 8,
   "metadata": {},
   "outputs": [
    {
     "data": {
      "text/plain": [
       "True"
      ]
     },
     "execution_count": 8,
     "metadata": {},
     "output_type": "execute_result"
    }
   ],
   "source": [
    "import os\n",
    "import webbrowser\n",
    "\n",
    "webbrowser.open(\"file://\"+os.path.realpath(save_to))"
   ]
  },
  {
   "cell_type": "code",
   "execution_count": null,
   "metadata": {},
   "outputs": [],
   "source": []
  }
 ],
 "metadata": {
  "kernelspec": {
   "display_name": "Python 3",
   "language": "python",
   "name": "python3"
  },
  "language_info": {
   "codemirror_mode": {
    "name": "ipython",
    "version": 3
   },
   "file_extension": ".py",
   "mimetype": "text/x-python",
   "name": "python",
   "nbconvert_exporter": "python",
   "pygments_lexer": "ipython3",
   "version": "3.13.1"
  }
 },
 "nbformat": 4,
 "nbformat_minor": 2
}
